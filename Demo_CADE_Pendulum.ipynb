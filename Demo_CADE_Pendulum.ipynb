{
 "cells": [
  {
   "cell_type": "markdown",
   "metadata": {
    "jupyter": {
     "outputs_hidden": true
    }
   },
   "source": [
    "# Load checkpoints and data"
   ]
  },
  {
   "cell_type": "code",
   "execution_count": 1,
   "metadata": {
    "collapsed": false,
    "jupyter": {
     "outputs_hidden": false
    },
    "pycharm": {
     "name": "#%%\n"
    }
   },
   "outputs": [
    {
     "name": "stdout",
     "output_type": "stream",
     "text": [
      "Namespace(image_size=64, dataset='pendulum', substitute='resnet50', data_dir='data/pendulum/', batch_size=32, num_steps=20, epsilon=0.3, step_size=0.4, type_loss='pendulum', path_ckpt_generative='ckpt/pendulum/pendulum_bgm.pt', path_ckpt_resnet50='ckpt/pendulum/pendulum_resnet50.pt', path_ckpt_resnet50_pgd='ckpt/pendulum/pendulum_defense_resnet50_pgd.pt', path_ckpt_vgg16='ckpt/pendulum/pendulum_vgg16.pt', path_ckpt_vgg16_pgd='ckpt/pendulum/pendulum_defense_vgg16_pgd.pt')\n",
      "Build models...\n",
      "2048\n",
      "2048\n",
      "Model loaded\n"
     ]
    }
   ],
   "source": [
    "import pandas as pd\n",
    "import numpy as np\n",
    "import torch\n",
    "from generative_model.bgm import BGM\n",
    "from config_cade_nootbook import get_config_pend\n",
    "from preprocess.preprocess_img import make_dataloader\n",
    "from attacker_cade import CADELatent\n",
    "from torchvision.transforms import functional as F\n",
    "\n",
    "import models.resnet as resnet\n",
    "import models.vgg as vgg\n",
    "\n",
    "def denorm(x):\n",
    "    out = (x + 1) / 2\n",
    "    return out.clamp_(0, 1)\n",
    "\n",
    "\n",
    "torch.backends.cudnn.deterministic=True\n",
    "\n",
    "# load args and ckpts\n",
    "args = get_config_pend()\n",
    "print(args)\n",
    "device = torch.device('cuda')\n",
    "\n",
    "substitute = args.substitute\n",
    "epsilon = args.epsilon\n",
    "type_loss = args.type_loss\n",
    "num_steps = args.num_steps\n",
    "step_size = args.step_size\n",
    "path_ckpt_generative = args.path_ckpt_generative\n",
    "path_ckpt_resnet50 = args.path_ckpt_resnet50\n",
    "path_ckpt_resnet50_pgd = args.path_ckpt_resnet50_pgd\n",
    "path_ckpt_vgg16 = args.path_ckpt_vgg16\n",
    "path_ckpt_vgg16_pgd = args.path_ckpt_vgg16_pgd\n",
    "\n",
    "ckpt_generative = torch.load(path_ckpt_generative, map_location=device)  # load the ckpt of the pretrained causal generative model\n",
    "ckpt_resnet50 = torch.load(path_ckpt_resnet50, map_location=device)\n",
    "ckpt_resnet50_pgd = torch.load(path_ckpt_resnet50_pgd, map_location=device)\n",
    "ckpt_vgg16 = torch.load(path_ckpt_vgg16, map_location=device)\n",
    "ckpt_vgg16_pgd = torch.load(path_ckpt_vgg16_pgd, map_location=device)\n",
    "\n",
    "# causal graph for Pendulum\n",
    "A = torch.zeros((4, 4))\n",
    "A[0, 2:4] = 1\n",
    "A[1, 2:4] = 1\n",
    "num_classes = 50\n",
    "target_label_idx = 0  # the index of label pendulum_angle\n",
    "\n",
    "\n",
    "print('Build models...')\n",
    "model = BGM(latent_dim=6,\n",
    "            conv_dim=32,\n",
    "            image_size=64,\n",
    "            enc_dist='gaussian',\n",
    "            enc_arch='resnet',\n",
    "            enc_fc_size=1024,\n",
    "            enc_noise_dim=128,\n",
    "            dec_dist='implicit',\n",
    "            prior='nlrscm',\n",
    "            num_label=4,\n",
    "            A=A)\n",
    "model.load_state_dict(ckpt_generative['model'])\n",
    "model.eval()\n",
    "model.to(device)\n",
    "\n",
    "model_resnet50 = resnet.ResNet50(num_classes=num_classes).to(device)\n",
    "model_resnet50.load_state_dict(ckpt_resnet50)\n",
    "model_resnet50_pgd = resnet.ResNet50(num_classes=num_classes).to(device)\n",
    "model_resnet50_pgd.load_state_dict(ckpt_resnet50_pgd)\n",
    "model_vgg16 = vgg.VGG('VGG16', num_classes=num_classes).to(device)\n",
    "model_vgg16.load_state_dict(ckpt_vgg16)\n",
    "model_vgg16_pgd = vgg.VGG('VGG16', num_classes=num_classes).to(device)\n",
    "model_vgg16_pgd.load_state_dict(ckpt_vgg16_pgd)\n",
    "\n",
    "model_resnet50.eval()\n",
    "model_resnet50_pgd.eval()\n",
    "model_vgg16.eval()\n",
    "model_vgg16_pgd.eval()\n",
    "\n",
    "print('Model loaded')"
   ]
  },
  {
   "cell_type": "code",
   "execution_count": 2,
   "metadata": {
    "collapsed": false,
    "jupyter": {
     "outputs_hidden": false
    },
    "pycharm": {
     "name": "#%%\n"
    }
   },
   "outputs": [
    {
     "name": "stdout",
     "output_type": "stream",
     "text": [
      "[ 0. 50.  3.  3.]\n",
      "[49. 98. 13. 13.]\n",
      "mean: [24.51923077 74.03846154  7.04967949  8.15544872]\n",
      "std [14.4090744  14.40169355  2.7448845   2.08009549]\n"
     ]
    }
   ],
   "source": [
    "data_loader = make_dataloader(args)\n",
    "size_dataset = len(data_loader.dataset)"
   ]
  },
  {
   "cell_type": "code",
   "execution_count": 3,
   "metadata": {
    "collapsed": false,
    "jupyter": {
     "outputs_hidden": false
    },
    "pycharm": {
     "name": "#%%\n"
    }
   },
   "outputs": [],
   "source": [
    "for batch_id, (x, label) in enumerate(data_loader):\n",
    "    if batch_id == 15: break\n",
    "x = x.to(device)\n",
    "label = label[:, target_label_idx].long().to(device)"
   ]
  },
  {
   "cell_type": "code",
   "execution_count": 4,
   "metadata": {
    "collapsed": false,
    "jupyter": {
     "outputs_hidden": false
    },
    "pycharm": {
     "name": "#%%\n"
    }
   },
   "outputs": [],
   "source": [
    "# attack on z_1, z_2, z_3, z_{1,2,3}\n",
    "\n",
    "if substitute == 'resnet50':\n",
    "    model_white = model_resnet50\n",
    "elif substitute == 'vgg16':\n",
    "    model_white = model_vgg16\n",
    "model_white.eval()\n",
    "\n",
    "l_attacking_nodes = [[1], [2], [3], [1, 2, 3]] # z1 (light_angle), z2 (shadow_length), z3 (shadow_position), z1:3\n",
    "l_causal = [True, False, False, False]  # since variables z_2 and z_3 both have no descendants in z, thus setting False to avoid extra computations\n",
    "ranges = [[6.8932], [13.4833], [6.9335], [6.8932, 13.4833, 6.9335]]  # the range of the latent z"
   ]
  },
  {
   "cell_type": "code",
   "execution_count": 5,
   "metadata": {
    "collapsed": false,
    "jupyter": {
     "outputs_hidden": false
    },
    "pycharm": {
     "name": "#%%\n"
    }
   },
   "outputs": [
    {
     "name": "stdout",
     "output_type": "stream",
     "text": [
      "Attacking variables:  [1]\n",
      "-------------------------------------------\n",
      "epoch: 0, loss_pred: -0.3359318673610687\n",
      "epoch: 1, loss_pred: -0.8816968202590942\n",
      "epoch: 2, loss_pred: -1.5797483921051025\n",
      "epoch: 3, loss_pred: -2.041353940963745\n",
      "epoch: 4, loss_pred: -2.464763641357422\n",
      "epoch: 5, loss_pred: -2.658003330230713\n",
      "epoch: 6, loss_pred: -3.0590789318084717\n",
      "epoch: 7, loss_pred: -3.0777132511138916\n",
      "epoch: 8, loss_pred: -3.203777551651001\n",
      "epoch: 9, loss_pred: -3.5396525859832764\n",
      "epoch: 10, loss_pred: -3.345773458480835\n",
      "epoch: 11, loss_pred: -3.4792230129241943\n",
      "epoch: 12, loss_pred: -3.5294625759124756\n",
      "epoch: 13, loss_pred: -3.415285110473633\n",
      "epoch: 14, loss_pred: -3.6180591583251953\n",
      "epoch: 15, loss_pred: -3.5046324729919434\n",
      "epoch: 16, loss_pred: -3.6441521644592285\n",
      "epoch: 17, loss_pred: -3.466306209564209\n",
      "epoch: 18, loss_pred: -3.419842481613159\n",
      "epoch: 19, loss_pred: -3.606614112854004\n",
      "z_[1] attacked!\n",
      "resnet50, asr: 0.65625\n",
      "resnet50 pgd defense, asr: 0.71875\n",
      "vgg16, asr: 0.71875\n",
      "vgg16 pgd defense, asr: 0.59375\n",
      "-------------------------------------------\n",
      "Attacking variables:  [2]\n",
      "-------------------------------------------\n",
      "epoch: 0, loss_pred: -0.46985962986946106\n",
      "epoch: 1, loss_pred: -2.0081872940063477\n",
      "epoch: 2, loss_pred: -3.8912851810455322\n",
      "epoch: 3, loss_pred: -5.871171474456787\n",
      "epoch: 4, loss_pred: -7.335814476013184\n",
      "epoch: 5, loss_pred: -8.926128387451172\n",
      "epoch: 6, loss_pred: -10.145377159118652\n",
      "epoch: 7, loss_pred: -10.975720405578613\n",
      "epoch: 8, loss_pred: -11.890426635742188\n",
      "epoch: 9, loss_pred: -12.570663452148438\n",
      "epoch: 10, loss_pred: -13.007649421691895\n",
      "epoch: 11, loss_pred: -13.408747673034668\n",
      "epoch: 12, loss_pred: -13.710908889770508\n",
      "epoch: 13, loss_pred: -13.624826431274414\n",
      "epoch: 14, loss_pred: -13.745820999145508\n",
      "epoch: 15, loss_pred: -13.858797073364258\n",
      "epoch: 16, loss_pred: -13.827263832092285\n",
      "epoch: 17, loss_pred: -13.833052635192871\n",
      "epoch: 18, loss_pred: -13.86801528930664\n",
      "epoch: 19, loss_pred: -13.814177513122559\n",
      "z_[2] attacked!\n",
      "resnet50, asr: 1.0\n",
      "resnet50 pgd defense, asr: 1.0\n",
      "vgg16, asr: 1.0\n",
      "vgg16 pgd defense, asr: 0.96875\n",
      "-------------------------------------------\n",
      "Attacking variables:  [3]\n",
      "-------------------------------------------\n",
      "epoch: 0, loss_pred: -0.30250513553619385\n",
      "epoch: 1, loss_pred: -0.6564551591873169\n",
      "epoch: 2, loss_pred: -1.2434813976287842\n",
      "epoch: 3, loss_pred: -2.2181520462036133\n",
      "epoch: 4, loss_pred: -2.850654125213623\n",
      "epoch: 5, loss_pred: -3.8895320892333984\n",
      "epoch: 6, loss_pred: -4.295187950134277\n",
      "epoch: 7, loss_pred: -4.07907247543335\n",
      "epoch: 8, loss_pred: -4.406701564788818\n",
      "epoch: 9, loss_pred: -4.287370681762695\n",
      "epoch: 10, loss_pred: -4.364971160888672\n",
      "epoch: 11, loss_pred: -4.564215660095215\n",
      "epoch: 12, loss_pred: -4.557511329650879\n",
      "epoch: 13, loss_pred: -4.512383460998535\n",
      "epoch: 14, loss_pred: -4.583218097686768\n",
      "epoch: 15, loss_pred: -4.49263858795166\n",
      "epoch: 16, loss_pred: -4.613889217376709\n",
      "epoch: 17, loss_pred: -4.6266584396362305\n",
      "epoch: 18, loss_pred: -4.555235862731934\n",
      "epoch: 19, loss_pred: -4.422337532043457\n",
      "z_[3] attacked!\n",
      "resnet50, asr: 0.6875\n",
      "resnet50 pgd defense, asr: 0.9375\n",
      "vgg16, asr: 0.96875\n",
      "vgg16 pgd defense, asr: 0.6875\n",
      "-------------------------------------------\n",
      "Attacking variables:  [1, 2, 3]\n",
      "-------------------------------------------\n",
      "epoch: 0, loss_pred: -0.37160852551460266\n",
      "epoch: 1, loss_pred: -2.9562153816223145\n",
      "epoch: 2, loss_pred: -5.574854850769043\n",
      "epoch: 3, loss_pred: -7.680315971374512\n",
      "epoch: 4, loss_pred: -9.587892532348633\n",
      "epoch: 5, loss_pred: -10.816853523254395\n",
      "epoch: 6, loss_pred: -11.65587329864502\n",
      "epoch: 7, loss_pred: -12.553058624267578\n",
      "epoch: 8, loss_pred: -13.464592933654785\n",
      "epoch: 9, loss_pred: -13.92675495147705\n",
      "epoch: 10, loss_pred: -14.233987808227539\n",
      "epoch: 11, loss_pred: -14.812113761901855\n",
      "epoch: 12, loss_pred: -15.124618530273438\n",
      "epoch: 13, loss_pred: -15.406681060791016\n",
      "epoch: 14, loss_pred: -15.445643424987793\n",
      "epoch: 15, loss_pred: -15.597471237182617\n",
      "epoch: 16, loss_pred: -15.663857460021973\n",
      "epoch: 17, loss_pred: -15.466404914855957\n",
      "epoch: 18, loss_pred: -15.576892852783203\n",
      "epoch: 19, loss_pred: -15.746689796447754\n",
      "z_[1, 2, 3] attacked!\n",
      "resnet50, asr: 1.0\n",
      "resnet50 pgd defense, asr: 1.0\n",
      "vgg16, asr: 1.0\n",
      "vgg16 pgd defense, asr: 1.0\n",
      "-------------------------------------------\n"
     ]
    }
   ],
   "source": [
    "imgs_to_show = []\n",
    "diff_to_show = []\n",
    "l_is_success = []\n",
    "\n",
    "\n",
    "for mode in range(len(l_attacking_nodes)):\n",
    "    attacker = CADELatent(model, attacking_nodes=l_attacking_nodes[mode], substitute=model_white, device=device)\n",
    "\n",
    "    print(\"Attacking variables: \", l_attacking_nodes[mode])\n",
    "    print(\"-------------------------------------------\")\n",
    "    x_cade = attacker.attack_whitebox(x, label, lr=step_size, epochs=num_steps, type_loss=type_loss, epsilon=epsilon * torch.FloatTensor(ranges[mode]).to(device), causal_layer=l_causal[mode])\n",
    "\n",
    "    pred_resnet50 = torch.argmax(model_resnet50(x_cade), dim=1)  # transfer to resnet50\n",
    "    pred_resnet50_pgd = torch.argmax(model_resnet50_pgd(x_cade), dim=1)  # transfer to resnet50 pgd defense\n",
    "    pred_vgg16 = torch.argmax(model_vgg16(x_cade), dim=1)  # transfer to vgg16\n",
    "    pred_vgg16_pgd = torch.argmax(model_vgg16_pgd(x_cade), dim=1)  # transfer to vgg16 pgd defense\n",
    "\n",
    "    is_success_resnet50 = (torch.abs(pred_resnet50 - label) > 0).float()\n",
    "    is_success_resnet50_pgd = (torch.abs(pred_resnet50_pgd - label) > 0).float()\n",
    "    is_success_vgg16 = (torch.abs(pred_vgg16 - label) > 0).float()\n",
    "    is_success_vgg16_pgd = (torch.abs(pred_vgg16_pgd - label) > 0).float()\n",
    "\n",
    "    num_success_resnet50_batch_i = torch.sum(is_success_resnet50)  # number of success attacks in batch i\n",
    "    num_success_resnet50_pgd_batch_i = torch.sum(is_success_resnet50_pgd)\n",
    "    num_success_vgg16_batch_i = torch.sum(is_success_vgg16)\n",
    "    num_success_vgg16_pgd_batch_i = torch.sum(is_success_vgg16_pgd)\n",
    "\n",
    "    print(\"z_{} attacked!\".format(l_attacking_nodes[mode]))\n",
    "    print(\"resnet50, asr: {}\".format(num_success_resnet50_batch_i / (label.shape[0])))\n",
    "    print(\"resnet50 pgd defense, asr: {}\".format(num_success_resnet50_pgd_batch_i / (label.shape[0])))\n",
    "    print(\"vgg16, asr: {}\".format(num_success_vgg16_batch_i / (label.shape[0])))\n",
    "    print(\"vgg16 pgd defense, asr: {}\".format(num_success_vgg16_pgd_batch_i / (label.shape[0])))\n",
    "    print(\"-------------------------------------------\")\n",
    "\n",
    "\n",
    "    img_idx = 0\n",
    "    imgs_to_show.append(F.to_pil_image(x_cade[img_idx]))\n",
    "    diff_to_show.append(F.to_pil_image(denorm(x_cade[img_idx]-x[img_idx])))\n",
    "    l_is_success.append(is_success_resnet50[img_idx])\n",
    "    "
   ]
  },
  {
   "cell_type": "code",
   "execution_count": 6,
   "metadata": {},
   "outputs": [
    {
     "data": {
      "text/plain": [
       "<matplotlib.image.AxesImage at 0x7f546d494130>"
      ]
     },
     "execution_count": 6,
     "metadata": {},
     "output_type": "execute_result"
    },
    {
     "data": {
      "image/png": "[encoded data removed]",
      "text/plain": [
       "<Figure size 1152x432 with 9 Axes>"
      ]
     },
     "metadata": {
      "needs_background": "light"
     },
     "output_type": "display_data"
    }
   ],
   "source": [
    "%matplotlib inline\n",
    "import matplotlib.pyplot as plt\n",
    "from matplotlib.colors import Normalize\n",
    "\n",
    "flags = ['fail', 'success']\n",
    "fig = plt.figure(figsize=(16, 6))\n",
    "plt.subplot(251)\n",
    "plt.title(\"Original\")\n",
    "plt.imshow(F.to_pil_image(x[img_idx]))\n",
    "\n",
    "plt.subplot(252)\n",
    "plt.title(\"CADE(1) {}\".format(flags[int(l_is_success[0])]))\n",
    "plt.imshow(imgs_to_show[0])\n",
    "\n",
    "plt.subplot(253)\n",
    "plt.title(\"CADE(2) {}\".format(flags[int(l_is_success[1])]))\n",
    "plt.imshow(imgs_to_show[1])\n",
    "\n",
    "plt.subplot(254)\n",
    "plt.title(\"CADE(3) {}\".format(flags[int(l_is_success[2])]))\n",
    "plt.imshow(imgs_to_show[2])\n",
    "\n",
    "plt.subplot(255)\n",
    "plt.title(\"CADE(Mb) {}\".format(flags[int(l_is_success[3])]))\n",
    "plt.imshow(imgs_to_show[3])\n",
    "\n",
    "plt.subplot(257)\n",
    "plt.imshow(diff_to_show[0])\n",
    "\n",
    "plt.subplot(258)\n",
    "plt.imshow(diff_to_show[1])\n",
    "\n",
    "plt.subplot(259)\n",
    "plt.imshow(diff_to_show[2])\n",
    "\n",
    "plt.subplot(2,5,10)\n",
    "plt.imshow(diff_to_show[3])"
   ]
  },
  {
   "cell_type": "code",
   "execution_count": null,
   "metadata": {},
   "outputs": [],
   "source": []
  },
  {
   "cell_type": "code",
   "execution_count": null,
   "metadata": {},
   "outputs": [],
   "source": []
  },
  {
   "cell_type": "code",
   "execution_count": null,
   "metadata": {},
   "outputs": [],
   "source": []
  },
  {
   "cell_type": "code",
   "execution_count": null,
   "metadata": {},
   "outputs": [],
   "source": []
  }
 ],
 "metadata": {
  "kernelspec": {
   "display_name": "NSEG",
   "language": "python",
   "name": "nseg"
  },
  "language_info": {
   "codemirror_mode": {
    "name": "ipython",
    "version": 3
   },
   "file_extension": ".py",
   "mimetype": "text/x-python",
   "name": "python",
   "nbconvert_exporter": "python",
   "pygments_lexer": "ipython3",
   "version": "3.9.13"
  }
 },
 "nbformat": 4,
 "nbformat_minor": 4
}